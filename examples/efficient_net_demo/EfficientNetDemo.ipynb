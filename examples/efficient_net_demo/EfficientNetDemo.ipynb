{
 "cells": [
  {
   "cell_type": "markdown",
   "id": "30206aa6",
   "metadata": {},
   "source": [
    "# EfficientNet Lite - Deployment with MERA software stack\n",
    "\n",
    "Model details: [EfficientNet paper](https://arxiv.org/abs/1905.11946).\n",
    "\n",
    "|**Model** | **params** | **MAdds** | **FP32 accuracy** | **FP32 CPU  latency** | **FP32 GPU latency** | **FP16 GPU latency** |**INT8 accuracy** | **INT8 CPU latency**  | **INT8 TPU latency**|\n",
    "|------|-----|-------|-------|-------|-------|-------|-------|-------|-------|\n",
    "|efficientnet-lite0 [ckpt](https://storage.googleapis.com/cloud-tpu-checkpoints/efficientnet/lite/efficientnet-lite0.tar.gz) | 4.7M | 407M |  75.1% |  12ms | 9.0ms | 6.0ms  | 74.4% |  6.5ms | 3.8ms |\n",
    "|efficientnet-lite1 [ckpt](https://storage.googleapis.com/cloud-tpu-checkpoints/efficientnet/lite/efficientnet-lite1.tar.gz) | 5.4M | 631M |  76.7% |  18ms | 12ms | 8.0ms  |  75.9% | 9.1ms | 5.4ms |\n",
    "|efficientnet-lite2 [ckpt](https://storage.googleapis.com/cloud-tpu-checkpoints/efficientnet/lite/efficientnet-lite2.tar.gz) | 6.1M | 899M |  77.6% |  26ms | 16ms | 10ms | 77.0% | 12ms | 7.9ms |\n",
    "|efficientnet-lite3 [ckpt](https://storage.googleapis.com/cloud-tpu-checkpoints/efficientnet/lite/efficientnet-lite3.tar.gz) | 8.2M | 1.44B |  79.8% |  41ms | 23ms | 14ms  | 79.0% | 18ms | 9.7ms |\n",
    "|efficientnet-lite4 [ckpt](https://storage.googleapis.com/cloud-tpu-checkpoints/efficientnet/lite/efficientnet-lite4.tar.gz) |13.0M | 2.64B |  81.5% |  76ms | 36ms | 21ms  | 80.2% | 30ms | - |\n",
    "\n",
    "* CPU/GPU/TPU latency are measured on Pixel4, with batch size 1 and 4 CPU threads. FP16 GPU latency is measured with default latency, while FP32 GPU latency is measured with additional option --gpu_precision_loss_allowed=false.\n",
    "\n",
    "Original repository: https://github.com/tensorflow/tpu/tree/master/models/official/efficientnet/lite"
   ]
  },
  {
   "cell_type": "markdown",
   "id": "a649a8d8",
   "metadata": {},
   "source": [
    "## Deployment guide\n",
    "### Download the models:"
   ]
  },
  {
   "cell_type": "code",
   "execution_count": 1,
   "id": "5664a4c2",
   "metadata": {},
   "outputs": [],
   "source": [
    "%%capture\n",
    "!wget https://storage.googleapis.com/cloud-tpu-checkpoints/efficientnet/lite/efficientnet-lite1.tar.gz\n",
    "!tar xvzf efficientnet-lite1.tar.gz\n",
    "!rm efficientnet-lite1.tar.gz\n",
    "!cp efficientnet-lite1/efficientnet-lite1-int8.tflite effnet-lite1.tflite\n",
    "!rm -rf efficientnet-lite1/\n",
    "\n",
    "!wget https://storage.googleapis.com/cloud-tpu-checkpoints/efficientnet/lite/efficientnet-lite4.tar.gz\n",
    "!tar xvzf efficientnet-lite4.tar.gz\n",
    "!rm efficientnet-lite4.tar.gz\n",
    "!cp efficientnet-lite4/efficientnet-lite4-int8.tflite effnet-lite4.tflite\n",
    "!rm -rf efficientnet-lite4/"
   ]
  },
  {
   "cell_type": "markdown",
   "id": "6ab77f70",
   "metadata": {},
   "source": [
    "### Basic imports"
   ]
  },
  {
   "cell_type": "code",
   "execution_count": 2,
   "id": "c5477f43",
   "metadata": {},
   "outputs": [],
   "source": [
    "import numpy as np\n",
    "import tensorflow as tf\n",
    "\n",
    "import mera\n",
    "from mera import Target\n",
    "from mera import Platform"
   ]
  },
  {
   "cell_type": "markdown",
   "id": "36a13e96",
   "metadata": {},
   "source": [
    "### Load image helper"
   ]
  },
  {
   "cell_type": "code",
   "execution_count": 3,
   "id": "973f2cf8",
   "metadata": {},
   "outputs": [],
   "source": [
    "def load_image(image_path, input_size):\n",
    "    image = tf.io.read_file(image_path)\n",
    "    image = tf.image.decode_jpeg(image)\n",
    "    input_image = tf.expand_dims(image, axis=0)\n",
    "    input_image = tf.image.resize_with_pad(input_image, input_size, input_size)\n",
    "    input_image = tf.cast(input_image, tf.uint8)\n",
    "    return input_image"
   ]
  },
  {
   "cell_type": "markdown",
   "id": "7fcc2739",
   "metadata": {},
   "source": [
    "### Compilation with MERA software stack helper"
   ]
  },
  {
   "cell_type": "code",
   "execution_count": 4,
   "id": "1f46b17b",
   "metadata": {},
   "outputs": [],
   "source": [
    "def mera_compile(tflite_filename, image_path, platform, host_arch, output_dir):\n",
    "    with mera.Deployer(output_dir, overwrite=True) as deployer:\n",
    "        model = mera.ModelLoader(deployer).from_tflite(tflite_filename)\n",
    "        # Get input dimensions from model\n",
    "        input_size, _ = list(model.input_desc.values())[0]\n",
    "        # Grab the 'height' component \n",
    "        input_size = input_size[1]\n",
    "        input_data = np.array(load_image(image_path, input_size))\n",
    "\n",
    "        deployer.deploy(model, mera_platform=platform, target=Target.IP, host_arch=host_arch)\n",
    "    return input_data"
   ]
  },
  {
   "cell_type": "markdown",
   "id": "8b7ad4d5",
   "metadata": {},
   "source": [
    "### Models compilation"
   ]
  },
  {
   "cell_type": "code",
   "execution_count": 5,
   "id": "3a59815e",
   "metadata": {
    "scrolled": true
   },
   "outputs": [
    {
     "name": "stderr",
     "output_type": "stream",
     "text": [
      "WARNING:autotvm:One or more operators have not been tuned. Please tune your model for better performance. Use DEBUG logging level to see more details.\n"
     ]
    }
   ],
   "source": [
    "image_path = 'cat.png'\n",
    "output_dir_lite1 = \"deploy_effnet_lite1\"\n",
    "output_dir_lite4 = \"deploy_effnet_lite4\"\n",
    "platform = Platform.DNAF300L0001  # for intel FPGA\n",
    "host_arch = \"x86\"\n",
    "\n",
    "input_data_eflite1 = mera_compile(\"effnet-lite1.tflite\", image_path, platform, host_arch, output_dir_lite1)\n",
    "input_data_eflite4 = mera_compile(\"effnet-lite4.tflite\", image_path, platform, host_arch, output_dir_lite4)"
   ]
  },
  {
   "cell_type": "markdown",
   "id": "81d631fd",
   "metadata": {},
   "source": [
    "### Load deployment directories"
   ]
  },
  {
   "cell_type": "code",
   "execution_count": 6,
   "id": "b8989e82",
   "metadata": {
    "scrolled": true
   },
   "outputs": [],
   "source": [
    "ip_lite1 = mera.load_mera_deployment(output_dir_lite1)\n",
    "ip_lite4 = mera.load_mera_deployment(output_dir_lite4)"
   ]
  },
  {
   "cell_type": "markdown",
   "id": "0a9ea82a",
   "metadata": {},
   "source": [
    "### Inference on hardware IP"
   ]
  },
  {
   "cell_type": "code",
   "execution_count": null,
   "id": "d1b9a5e9",
   "metadata": {},
   "outputs": [],
   "source": [
    "def get_total_latency_ms(run_result, latency_key_name = 'elapsed_latency'):\n",
    "    metrics = run_result.get_runtime_metrics()\n",
    "    total_us = sum([x[latency_key_name] for x in metrics])\n",
    "    return total_us / 1000\n",
    "\n",
    "mera_runner_lite1 = ip_lite1.get_runner().set_input(input_data_eflite1).run()\n",
    "mera_result_lite1 = mera_runner_lite1.get_outputs()\n",
    "print(\"Optimized inference latency efficient net lite 1 (IP):\", get_total_latency_ms(mera_runner_lite1), \"ms\")\n",
    "\n",
    "mera_runner_lite4 = ip_lite4.get_runner().set_input(input_data_eflite4).run()\n",
    "mera_result_lite4 = mera_runner_lite4.get_outputs()\n",
    "print(\"Optimized inference latency efficient net lite 4 (IP):\", get_total_latency_ms(mera_runner_lite4), \"ms\")"
   ]
  },
  {
   "cell_type": "markdown",
   "id": "cc1ab348",
   "metadata": {},
   "source": [
    "### Finally check the results from hardware"
   ]
  },
  {
   "cell_type": "code",
   "execution_count": null,
   "id": "db606399",
   "metadata": {},
   "outputs": [],
   "source": [
    "from tvm.contrib.download import download_testdata\n",
    "def get_synset():\n",
    "    synset_url = \"\".join(\n",
    "        [\n",
    "            \"https://gist.githubusercontent.com/zhreshold/\",\n",
    "            \"4d0b62f3d01426887599d4f7ede23ee5/raw/\",\n",
    "            \"596b27d23537e5a1b5751d2b0481ef172f58b539/\",\n",
    "            \"imagenet1000_clsid_to_human.txt\",\n",
    "        ]\n",
    "    )\n",
    "    synset_name = \"imagenet1000_clsid_to_human.txt\"\n",
    "    synset_path = download_testdata(synset_url, synset_name, module=\"data\")\n",
    "    with open(synset_path) as f:\n",
    "        return eval(f.read())\n",
    "synset = get_synset()"
   ]
  },
  {
   "cell_type": "code",
   "execution_count": null,
   "id": "a6c92164",
   "metadata": {},
   "outputs": [],
   "source": [
    "mera_top3_labels_lite1 = np.argsort(mera_result_lite1[0][0])[::-1][:3]\n",
    "mera_top3_labels_lite4 = np.argsort(mera_result_lite4[0][0])[::-1][:3]\n",
    "print(\"MERA compiled top3 labels lite 1:\", [synset[label] for label in mera_top3_labels_lite1])\n",
    "print(\"MERA compiled top3 labels lite 4:\", [synset[label] for label in mera_top3_labels_lite4])"
   ]
  }
 ],
 "metadata": {
  "kernelspec": {
   "display_name": "Python 3",
   "language": "python",
   "name": "python3"
  },
  "language_info": {
   "codemirror_mode": {
    "name": "ipython",
    "version": 3
   },
   "file_extension": ".py",
   "mimetype": "text/x-python",
   "name": "python",
   "nbconvert_exporter": "python",
   "pygments_lexer": "ipython3",
   "version": "3.6.9"
  }
 },
 "nbformat": 4,
 "nbformat_minor": 5
}
